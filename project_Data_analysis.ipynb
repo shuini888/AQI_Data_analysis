{
 "cells": [
  {
   "cell_type": "markdown",
   "metadata": {},
   "source": [
    "# Introduction\n",
    "## 1.Business Understanding\n",
    "I'm intested in daba analyst job, and I want to know about job demand.\n",
    "<p>There are three questions I want to learn about:</p>\n",
    "<p>1.Which direction do data analysts get paid more?</p>\n",
    "<p>2.What kinds of skills I need to master?</p>\n",
    "<p>3.Should I go to big-size company if taking into account wages?</p>"
   ]
  },
  {
   "cell_type": "markdown",
   "metadata": {},
   "source": [
    "## 2.Data Understanding\n",
    "I choose a dataset from <a href='https://www.kaggle.com/andrewmvd/data-analyst-jobs'> <span>Kaggle</span> </a><br>\n",
    "This dataset has 15 features: 'Job Title', 'Salary Estimate', 'Job Description', 'Rating', 'Company Name', 'Location', 'Headquarters', 'Size', 'Founded','Type of ownership', 'Industry', 'Sector', 'Revenue', 'Competitors','Easy Apply'.\n",
    "<p>Move these questions to this dataset:</p>\n",
    "1.Which direction do data analysts get paid more?<br>\n",
    "This question would use 'Salary Estimate' and 'Sector' columns.\n",
    "<p>2.What kinds of skills I need to master?<br>\n",
    "This question would use 'Job Description' column.</p>\n",
    "<p>3.Should I go to big-size company if taking into account wages?<br>\n",
    "This question would use 'Size','Salary Estimate','Rating' and 'Revenue' columns.   \n",
    "</p>"
   ]
  },
  {
   "cell_type": "markdown",
   "metadata": {},
   "source": [
    "## 3.Prepare Data\n",
    "According to data understanding, the columns might be used are 'Job Title','Salary Estimate','Job Description','Size','Rating','Sector' and 'Revenue'. Now wrangling and cleaning process is starting."
   ]
  },
  {
   "cell_type": "markdown",
   "metadata": {},
   "source": [
    "step 1:  read in libraries"
   ]
  },
  {
   "cell_type": "code",
   "execution_count": 1,
   "metadata": {},
   "outputs": [],
   "source": [
    "import numpy as np\n",
    "import pandas as pd\n",
    "import matplotlib.pyplot as plt\n",
    "import seaborn as sns\n",
    "%matplotlib inline\n",
    "from collections import Counter\n",
    "from sklearn.linear_model import LinearRegression\n",
    "from sklearn.model_selection import train_test_split\n",
    "from sklearn.metrics import r2_score\n",
    "import warnings \n",
    "warnings.filterwarnings(\"ignore\")\n",
    "from sklearn.linear_model import LinearRegression\n",
    "from sklearn.model_selection import train_test_split\n",
    "from sklearn.metrics import r2_score"
   ]
  },
  {
   "cell_type": "markdown",
   "metadata": {},
   "source": [
    "step 2: load relevant data"
   ]
  },
  {
   "cell_type": "code",
   "execution_count": 2,
   "metadata": {},
   "outputs": [
    {
     "data": {
      "text/html": [
       "<div>\n",
       "<style scoped>\n",
       "    .dataframe tbody tr th:only-of-type {\n",
       "        vertical-align: middle;\n",
       "    }\n",
       "\n",
       "    .dataframe tbody tr th {\n",
       "        vertical-align: top;\n",
       "    }\n",
       "\n",
       "    .dataframe thead th {\n",
       "        text-align: right;\n",
       "    }\n",
       "</style>\n",
       "<table border=\"1\" class=\"dataframe\">\n",
       "  <thead>\n",
       "    <tr style=\"text-align: right;\">\n",
       "      <th></th>\n",
       "      <th>Job Title</th>\n",
       "      <th>Salary Estimate</th>\n",
       "      <th>Job Description</th>\n",
       "      <th>Rating</th>\n",
       "      <th>Size</th>\n",
       "      <th>Sector</th>\n",
       "      <th>Revenue</th>\n",
       "    </tr>\n",
       "  </thead>\n",
       "  <tbody>\n",
       "    <tr>\n",
       "      <th>0</th>\n",
       "      <td>Data Analyst, Center on Immigration and Justic...</td>\n",
       "      <td>$37K-$66K (Glassdoor est.)</td>\n",
       "      <td>Are you eager to roll up your sleeves and harn...</td>\n",
       "      <td>3.2</td>\n",
       "      <td>201 to 500 employees</td>\n",
       "      <td>Non-Profit</td>\n",
       "      <td>$100 to $500 million (USD)</td>\n",
       "    </tr>\n",
       "    <tr>\n",
       "      <th>1</th>\n",
       "      <td>Quality Data Analyst</td>\n",
       "      <td>$37K-$66K (Glassdoor est.)</td>\n",
       "      <td>Overview\\r\\n\\r\\nProvides analytical and techni...</td>\n",
       "      <td>3.8</td>\n",
       "      <td>10000+ employees</td>\n",
       "      <td>Health Care</td>\n",
       "      <td>$2 to $5 billion (USD)</td>\n",
       "    </tr>\n",
       "    <tr>\n",
       "      <th>2</th>\n",
       "      <td>Senior Data Analyst, Insights &amp; Analytics Team...</td>\n",
       "      <td>$37K-$66K (Glassdoor est.)</td>\n",
       "      <td>We’re looking for a Senior Data Analyst who ha...</td>\n",
       "      <td>3.4</td>\n",
       "      <td>1001 to 5000 employees</td>\n",
       "      <td>Information Technology</td>\n",
       "      <td>Unknown / Non-Applicable</td>\n",
       "    </tr>\n",
       "    <tr>\n",
       "      <th>3</th>\n",
       "      <td>Data Analyst</td>\n",
       "      <td>$37K-$66K (Glassdoor est.)</td>\n",
       "      <td>Requisition NumberRR-0001939\\r\\nRemote:Yes\\r\\n...</td>\n",
       "      <td>4.1</td>\n",
       "      <td>201 to 500 employees</td>\n",
       "      <td>Information Technology</td>\n",
       "      <td>$50 to $100 million (USD)</td>\n",
       "    </tr>\n",
       "    <tr>\n",
       "      <th>4</th>\n",
       "      <td>Reporting Data Analyst</td>\n",
       "      <td>$37K-$66K (Glassdoor est.)</td>\n",
       "      <td>ABOUT FANDUEL GROUP\\r\\n\\r\\nFanDuel Group is a ...</td>\n",
       "      <td>3.9</td>\n",
       "      <td>501 to 1000 employees</td>\n",
       "      <td>Arts, Entertainment &amp; Recreation</td>\n",
       "      <td>$100 to $500 million (USD)</td>\n",
       "    </tr>\n",
       "  </tbody>\n",
       "</table>\n",
       "</div>"
      ],
      "text/plain": [
       "                                           Job Title  \\\n",
       "0  Data Analyst, Center on Immigration and Justic...   \n",
       "1                               Quality Data Analyst   \n",
       "2  Senior Data Analyst, Insights & Analytics Team...   \n",
       "3                                       Data Analyst   \n",
       "4                             Reporting Data Analyst   \n",
       "\n",
       "              Salary Estimate  \\\n",
       "0  $37K-$66K (Glassdoor est.)   \n",
       "1  $37K-$66K (Glassdoor est.)   \n",
       "2  $37K-$66K (Glassdoor est.)   \n",
       "3  $37K-$66K (Glassdoor est.)   \n",
       "4  $37K-$66K (Glassdoor est.)   \n",
       "\n",
       "                                     Job Description  Rating  \\\n",
       "0  Are you eager to roll up your sleeves and harn...     3.2   \n",
       "1  Overview\\r\\n\\r\\nProvides analytical and techni...     3.8   \n",
       "2  We’re looking for a Senior Data Analyst who ha...     3.4   \n",
       "3  Requisition NumberRR-0001939\\r\\nRemote:Yes\\r\\n...     4.1   \n",
       "4  ABOUT FANDUEL GROUP\\r\\n\\r\\nFanDuel Group is a ...     3.9   \n",
       "\n",
       "                     Size                            Sector  \\\n",
       "0    201 to 500 employees                        Non-Profit   \n",
       "1        10000+ employees                       Health Care   \n",
       "2  1001 to 5000 employees            Information Technology   \n",
       "3    201 to 500 employees            Information Technology   \n",
       "4   501 to 1000 employees  Arts, Entertainment & Recreation   \n",
       "\n",
       "                      Revenue  \n",
       "0  $100 to $500 million (USD)  \n",
       "1      $2 to $5 billion (USD)  \n",
       "2    Unknown / Non-Applicable  \n",
       "3   $50 to $100 million (USD)  \n",
       "4  $100 to $500 million (USD)  "
      ]
     },
     "execution_count": 2,
     "metadata": {},
     "output_type": "execute_result"
    }
   ],
   "source": [
    "# load dataset\n",
    "df = pd.read_csv('./Dataset/DataAnalyst.csv',usecols=['Job Title','Salary Estimate','Job Description','Size','Rating','Sector','Revenue'])\n",
    "\n",
    "df.head()"
   ]
  },
  {
   "cell_type": "code",
   "execution_count": 3,
   "metadata": {},
   "outputs": [
    {
     "data": {
      "text/plain": [
       "(2253, 7)"
      ]
     },
     "execution_count": 3,
     "metadata": {},
     "output_type": "execute_result"
    }
   ],
   "source": [
    "# 1)get columns and rows of dataset\n",
    "df.shape"
   ]
  },
  {
   "cell_type": "markdown",
   "metadata": {},
   "source": [
    "This dataset has 2253 rows and 6 columns"
   ]
  },
  {
   "cell_type": "code",
   "execution_count": 4,
   "metadata": {
    "scrolled": true
   },
   "outputs": [
    {
     "data": {
      "text/plain": [
       "Job Title          0\n",
       "Salary Estimate    0\n",
       "Job Description    0\n",
       "Rating             0\n",
       "Size               0\n",
       "Sector             0\n",
       "Revenue            0\n",
       "dtype: int64"
      ]
     },
     "execution_count": 4,
     "metadata": {},
     "output_type": "execute_result"
    }
   ],
   "source": [
    "# 2)check missing value in columns\n",
    "df.isnull().sum()"
   ]
  },
  {
   "cell_type": "markdown",
   "metadata": {},
   "source": [
    "There is no missing values in df. "
   ]
  },
  {
   "cell_type": "code",
   "execution_count": 5,
   "metadata": {},
   "outputs": [
    {
     "name": "stdout",
     "output_type": "stream",
     "text": [
      "['Data Analyst, Center on Immigration and Justice (CIJ)'\n",
      " 'Quality Data Analyst'\n",
      " 'Senior Data Analyst, Insights & Analytics Team [Customer Operations]'\n",
      " ... 'Senior Data Analyst (Corporate Audit)'\n",
      " 'Technical Business Analyst (SQL, Data analytics, ETL)'\n",
      " 'Senior Quality Data Analyst']\n",
      "['$37K-$66K (Glassdoor est.)' '$46K-$87K (Glassdoor est.)'\n",
      " '$51K-$88K (Glassdoor est.)' '$51K-$87K (Glassdoor est.)'\n",
      " '$59K-$85K (Glassdoor est.)' '$43K-$76K (Glassdoor est.)'\n",
      " '$60K-$110K (Glassdoor est.)' '$41K-$78K (Glassdoor est.)'\n",
      " '$45K-$88K (Glassdoor est.)' '$73K-$127K (Glassdoor est.)'\n",
      " '$84K-$90K (Glassdoor est.)' '$27K-$52K (Glassdoor est.)'\n",
      " '$42K-$74K (Glassdoor est.)' '$77K-$132K (Glassdoor est.)'\n",
      " '$98K-$114K (Glassdoor est.)' '$48K-$96K (Glassdoor est.)'\n",
      " '$26K-$47K (Glassdoor est.)' '$31K-$59K (Glassdoor est.)'\n",
      " '$47K-$81K (Glassdoor est.)' '$43K-$69K (Glassdoor est.)'\n",
      " '$49K-$112K (Glassdoor est.)' '$30K-$54K (Glassdoor est.)'\n",
      " '$55K-$103K (Glassdoor est.)' '$37K-$70K (Glassdoor est.)'\n",
      " '$57K-$103K (Glassdoor est.)' '$35K-$45K (Glassdoor est.)'\n",
      " '$42K-$66K (Glassdoor est.)' '$65K-$81K (Glassdoor est.)'\n",
      " '$113K-$132K (Glassdoor est.)' '$42K-$63K (Glassdoor est.)'\n",
      " '$60K-$66K (Glassdoor est.)' '$73K-$82K (Glassdoor est.)'\n",
      " '$67K-$92K (Glassdoor est.)' '$42K-$76K (Glassdoor est.)'\n",
      " '$97K-$129K (Glassdoor est.)' '$68K-$87K (Glassdoor est.)'\n",
      " '$29K-$38K (Glassdoor est.)' '$47K-$76K (Glassdoor est.)'\n",
      " '$74K-$123K (Glassdoor est.)' '$53K-$94K (Glassdoor est.)'\n",
      " '$46K-$102K (Glassdoor est.)' '$43K-$94K (Glassdoor est.)'\n",
      " '$45K-$78K (Glassdoor est.)' '$38K-$68K (Glassdoor est.)'\n",
      " '$37K-$44K (Glassdoor est.)' '$64K-$113K (Glassdoor est.)'\n",
      " '$50K-$93K (Glassdoor est.)' '$37K-$68K (Glassdoor est.)'\n",
      " '$73K-$89K (Glassdoor est.)' '$76K-$122K (Glassdoor est.)'\n",
      " '$60K-$124K (Glassdoor est.)' '$34K-$61K (Glassdoor est.)'\n",
      " '$24K-$48K (Glassdoor est.)' '$30K-$53K (Glassdoor est.)'\n",
      " '$41K-$86K (Glassdoor est.)' '$44K-$82K (Glassdoor est.)'\n",
      " '$48K-$88K (Glassdoor est.)' '$44K-$78K (Glassdoor est.)'\n",
      " '$110K-$190K (Glassdoor est.)' '$89K-$151K (Glassdoor est.)'\n",
      " '$69K-$127K (Glassdoor est.)' '$51K-$93K (Glassdoor est.)'\n",
      " '$58K-$93K (Glassdoor est.)' '$63K-$116K (Glassdoor est.)'\n",
      " '$53K-$104K (Glassdoor est.)' '$35K-$42K (Glassdoor est.)'\n",
      " '$43K-$77K (Glassdoor est.)' '$40K-$72K (Glassdoor est.)'\n",
      " '$50K-$86K (Glassdoor est.)' '$35K-$67K (Glassdoor est.)'\n",
      " '$57K-$70K (Glassdoor est.)' '$28K-$52K (Glassdoor est.)'\n",
      " '$46K-$86K (Glassdoor est.)' '$54K-$75K (Glassdoor est.)'\n",
      " '$53K-$99K (Glassdoor est.)' '$40K-$74K (Glassdoor est.)'\n",
      " '$57K-$104K (Glassdoor est.)' '$99K-$178K (Glassdoor est.)'\n",
      " '$93K-$159K (Glassdoor est.)' '$82K-$116K (Glassdoor est.)'\n",
      " '$65K-$120K (Glassdoor est.)' '$47K-$74K (Glassdoor est.)'\n",
      " '$55K-$101K (Glassdoor est.)' '-1' '$32K-$56K (Glassdoor est.)'\n",
      " '$36K-$67K (Glassdoor est.)' '$57K-$67K (Glassdoor est.)'\n",
      " '$49K-$91K (Glassdoor est.)' '$57K-$100K (Glassdoor est.)'\n",
      " '$78K-$104K (Glassdoor est.)']\n",
      "[\"Are you eager to roll up your sleeves and harness data to drive policy change? Do you enjoy sifting through complex datasets to illuminate trends and insights? Do you see yourself working for a values-driven organization with a vision to tackle the most pressing injustices of our day?\\r\\n\\r\\nWe are looking to hire a bright, hard-working, and creative individual with strong data management skills and a demonstrated commitment to immigrant's rights. The Data Analyst will assist with analysis and reporting needs for Veras Center on Immigration and Justice (CIJ), working across its current projects and future Vera initiatives.\\r\\n\\r\\nWho we are:\\r\\n\\r\\nFounded in 1961, The Vera Institute is an independent, non-partisan, nonprofit organization that combines expertise in research, technical assistance, and demonstration projects to assist leaders in government and civil society examine justice policy and practice, and improve the systems people rely on for justice and safety.\\r\\nWe study problems that impede human dignity and justice.\\r\\nWe pilot solutions that are at once transformative and achievable.\\r\\nWe engage diverse communities in informed debate.\\r\\nAnd we harness the power of evidence to drive effective policy and practice\\r\\nWhat were doing:\\r\\n\\r\\nWe are helping to build a movementamong government leaders, advocates, and the immigration legal services communitytowards universal legal representation for immigrants facing deportation. In the face of stepped-up immigration enforcement, millions of non-citizens are at risk of extended detention and permanent separation from their families and communities. Veras Center on Immigration and Justice (CIJ) partners with government, non-profit partners, and communities to improve government systems that affect immigrants and their families. CIJ administers several nationwide legal services programs for immigrants facing deportation, develops and implements pilot programs, provides technical assistance, and conducts independent research and evaluation.\\r\\n\\r\\nThats where you come in:\\r\\nThe Data Analyst will support the Centers programmatic efforts through regular monitoring and reporting of federal government and subcontractor data. CIJ manages several proprietary databases that run on AWS and Caspio and uses SQL, R, and Python to manage data. This is an opportunity to help shape an innovative national research and policy agenda as part of a dedicated team of experts working to improve access to justice for non-citizens.\\r\\n\\r\\nVera seeks to hire a Data Analyst to work on various data management projects with its Center on Immigration and Justice (CIJ). In collaboration with other Data Analysts, this position will involve work across several projects, such as the Unaccompanied Childrens Program (UCP), a program to increase legal representation for immigrant children facing deportation without a parent or legal guardian. The position may cover additional duties for the Legal Orientation Program for Custodians (LOPC), which educates the custodians of unaccompanied children about their rights and the immigration court process.\\r\\n\\r\\nAbout the role:\\r\\n\\r\\nAs a Data Analyst, you will report to a member of the research team and work in close collaboration with other Vera staff on ongoing database management, monitoring, reporting, and analysis projects. Youll support the team by taking ownership of ongoing monitoring and reporting tasks involving large data sets. Other principal responsibilities will include:\\r\\nSupporting research staff by preparing large datasets for analysis, including merging, cleaning, and recoding data;\\r\\nProviding insights into program performance through summary statistics and performance indicators;\\r\\nProducing timely reports on Vera projects for team members and stakeholders;\\r\\nImproving recurring reporting processes by optimizing code and producing subsequent documentation;\\r\\nCoordinating database management tasks such as participating in new database design, modifying existing databases, and communicating with outside engineers and subcontractors;\\r\\nDeveloping codebooks and delivering user trainings through webinars and database guides;\\r\\nBuilding and maintaining interactive dashboards;\\r\\nDocumenting and correcting data quality issues;\\r\\nWorking with supervisors to prioritize program needs;\\r\\nAssisting on other projects and tasks as assigned.\\r\\nAbout you:\\r\\n\\r\\nYoure committed to improving issues affecting immigrants in the United States. Applicants with personal experiences with the immigration system are especially encouraged to apply.\\r\\n\\r\\nYoure just getting started in your career and have 1 2 years of professional or internship experience working with large datasets and preparing data for analysis.\\r\\n\\r\\nYou have a real enthusiasm for working with data.\\r\\n\\r\\nYou are comfortable writing queries in SQL, R, and/or Python, or have a solid foundation coding in other programming languages used to manipulate data. Experience working collaboratively using tools like Git/GitHub is a plus.\\r\\n\\r\\nYou have exceptional attention to detail, strong problem-solving ability and logical reasoning skills, and the ability to detect anomalies in data.\\r\\n\\r\\nYoure able to work on multiple projects effectively and efficiently, both independently and collaboratively with a team.\\r\\n\\r\\nThis position involves working with secure data that may require government security clearance. That clearance is restricted to U.S. citizens and citizens of countries that are party to collective defense agreements with the U.S. The list of those countries is detailed on this webpage. An additional requirement of that clearance is residence in the United States for at least three of the last five years.\\r\\n\\r\\nHow to apply:\\r\\n\\r\\nPlease submit cover letter and resume. Applications will be considered on a rolling basis until position is filled. Online submission in PDF format is preferred. Applications with no cover letter attached will not be considered. The cover letter should address your interest in CIJ and this position.\\r\\n\\r\\nHowever, if necessary, materials may be mailed or faxed to\\r\\n\\r\\nATTN: Human Resources / CIJ Data Analyst Recruitment\\r\\n\\r\\nVera Institute of Justice\\r\\n\\r\\n34 35th St, Suite 4-2A\\r\\n\\r\\nBrooklyn, NY 11232\\r\\n\\r\\nFax: (212) 941-9407\\r\\n\\r\\nPlease use only one method (online, mail or fax) of submission.\\r\\n\\r\\nNo phone calls, please. Only applicants selected for interviews will be contacted.\\r\\n\\r\\nVera is an equal opportunity/affirmative action employer. All qualified applicants will be considered for employment without unlawful discrimination based on race, color, creed, national origin, sex, age, disability, marital status, sexual orientation, military status, prior record of arrest or conviction, citizenship status, current employment status, or caregiver status.\\r\\n\\r\\nVera works to advance justice, particularly racial justice, in an increasingly multicultural country and globally connected world. We value diverse experiences, including with regard to educational background and justice system contact, and depend on a diverse staff to carry out our mission.\\r\\n\\r\\nFor more information about Vera and CIJs work, please visit www.vera.org.\\r\\n\\r\\nPowered by JazzHR\"\n",
      " 'Overview\\r\\n\\r\\nProvides analytical and technical support for the integration of multiple data sources used to prepare internal and external reporting for the Quality Management team and business stakeholders. Provides support and analytical insight for Quality Incentive measures, HEDIS measures, and Quality Improvement initiatives. Monitors, analyzes, and communicates Quality performance related to benchmarks. Collaborates with clinical and operational teams within Quality Management, as well as with CHOICE Clinical Operations and Business Intelligence & Analytics (BIA). Participates in data validation of current reporting and dashboards. Monitors data integrity of databases and provides recommendation accordingly. Participates in the development of internal dashboards and databases. Works under general direction.\\r\\n\\r\\nResponsibilities\\r\\nProvides support and analytical insight for Quality Incentive measures, HEDIS measures, and Quality Improvement initiatives.\\r\\nMonitors internal performance against benchmarks through analysis.\\r\\nParticipates in the identification, development, management, and monitoring of quality improvement initiatives.\\r\\nCollaborates with Education staff and makes recommendations for areas of focus in training of assessors and care managers, based on analysis of performance trends.\\r\\nResearches and identifies technical/operational problems surrounding systems/applications; communicates/refers complex and unresolved problems to management, Business Intelligence & Analytics (BIA), and/or IT.\\r\\nConducts ad hoc analyses to help identify operational gaps in care; drafts presentations, reports, publications, etc. regarding results of analyses.\\r\\nCommunicates results of data analysis to non-technical audiences.\\r\\nParticipates in prioritization of departmental goals based on identification of operational gaps in care.\\r\\nParticipates in establishing data quality specifications and designs. Coordinates and supports integrated data systems for analyzing and validating information.\\r\\nIdentifies and makes recommendations for reporting re-designs and platforms for reporting (e.g. automating a manual Excel file using macros, developing a MicroStrategy dashboard to replace manually updated Excel dashboards, moving data storage from Excel to Access, etc.), as needed. Trains staff on use of new/updated systems and related topics.\\r\\nAssists Quality management team with database and department reports. Conducts operations review and analysis of processes and procedures, issues report of findings and implements approved changes as required.\\r\\nIdentifies and recommends software needs and applications to accomplish required reporting.\\r\\nRetrieves, compiles, reviews and ensures accuracy of data from databases; researches and corrects discrepancies, as needed. Analyzes data from internal and external sources. Identifies and resolves data quality issues before reports are generated. Works with staff to correct data entry errors.\\r\\nAnalyzes data, identifies trends, reoccurring problems, statistically significant findings and prepares reports/summaries for management review.\\r\\nActs as a liaison between Quality Management, CHOICE Clinical Operations, and BIA.\\r\\nReviews and identifies trends and variances in data and reports. Researches findings and determines appropriateness of elevating identified issues to leadership for further review/evaluation/action.\\r\\nMonitors and maintains files by ensuring that files are current and of relevant nature.\\r\\nAnalyzes and corrects error reports to ensure timely and accurate data; develops corrective actions to prevent errors where possible.\\r\\nParticipates in special projects and performs other duties, as needed.\\r\\nQualifications\\r\\nEducation: Bachelors degree in bio/statistics, epidemiology, mathematics, computer science, social sciences, a related field or the equivalent work experience required. Masters degree with concentration in computer science, data science, or statistics preferred.\\r\\n\\r\\n\\r\\nExperience: Minimum of two years experience performing increasingly complex data analysis and interpretation, preferably in a managed care or health care setting, required. Experience with data extraction and manipulation required. Experience with relational databases and programming experience in SQL or PL/SQL required. Experience with claims data and health plan quality metrics (e.g., HEDIS, QARR) preferred. Proficiency conducting statistical analysis with R, SAS, Stata or other statistical software preferred. Advanced personal computer skills, including Microsoft Word, PowerPoint, Excel, and Access required. Effective oral, written communication and interpersonal skills required. Ability to multi task in a fast-paced environment required.\\r\\n\\r\\nCA2020'\n",
      " 'We’re looking for a Senior Data Analyst who has a love of mentorship, data visualization, and generating actionable insights from raw data. In this role, you’ll have the opportunity to be an organizational influencer, who will generate insights with a good degree of autonomy, and partner with data science to grow deeper analytical skills. You will be joining the Insights & Analytics team, a team tasked with developing insights and reporting to support our customers and advisors’ needs. This team sits within the Customer Operations team, but is also connected to the Product organization.\\r\\n\\r\\nIn this role, you will work mainly with Customer Operations stakeholders to set KPIs and evaluate the effectiveness of current strategies and workflows. You will be involved in many aspects of data operations, from data auditing to building dashboards and analytical insights. For example, you will review the code of more junior analysts and organize coding workshops. You will build metrics to evaluate the performance of our advisors, eliminating confounding variables and creating weighted measures that account for individual success. You will define metrics and create dashboards to track the success of the current strategic direction. You will analyze the text-based interactions with our advisors to improve care quality. You will also analyze interactions with our chatbot to improve the responses of the bot to match customer expectations. You will collaborate with the Data Engineering team in pursuit of better data modeling and you can collaborate with the Data Science team on more modeling-heavy pursuits, like topic modeling or search recommendations. You will be a mentor to all other members of the analytics team, which demands that you excel in a culture of teaching and learning.\\r\\n\\r\\nYou will report to the Manager of the Insights & Analytics team, Customer Operations in Squarespace’s New York offices.\\r\\n\\r\\nRESPONSIBILITIES\\r\\nDesign and develop KPIs, reports, and dashboards using BI/data visualization tools that clearly track the effectiveness of current strategies\\r\\nExecute and communicate impactful analyses, using SQL and R/Python to improve the customer experience and drive Customer Operations and Product roadmap\\r\\nRaise the skill level of the analytics team through reviewing code, organizing training sessions, acting as a mentor, and introducing new analytical methods and tools\\r\\nHelp design and evaluate experiments and pilots, setting clear hypotheses and success metrics, as well as using the right statistical methods for analyses\\r\\nEffectively partner with Customer Operations and Product stakeholders, as well as our Data Engineering team\\r\\nQUALIFICATIONS\\r\\n4 or more years of experience as a data analyst, data scientist, or in a relevant field in which you have worked with large datasets to transform data to meaningful insights\\r\\nMastery of SQL, and experience with R/Python\\r\\nExperience with dashboarding/BI tools like Chartio, Looker, Tableau\\r\\nExperience with data cleaning, analysis, and presentation to non-technical stakeholders\\r\\nBachelor’s degree in a quantitative or logic-driven discipline\\r\\nIntellectual curiosity and a deep love of mentorship and generating actionable insights\\r\\nPreferred: Advanced degree (Master’s or PhD) in quantitative field\\r\\nPreferred: Experience with topic modeling, text analytics/natural language processing\\r\\nWe are hiring at various experience levels and we’re particularly interested in having a diverse team with a broad set of skills and viewpoints. If this seems like an opportunity you’d like to explore, but you’re not sure if you qualify, we encourage you to apply anyway!\\r\\n\\r\\nAbout Squarespace\\r\\n\\r\\nSquarespace makes beautiful products to help people with creative ideas succeed. By blending elegant design and sophisticated engineering, we empower millions of people — from individuals and local artists to entrepreneurs shaping the world’s most iconic businesses — to share their stories with the world. Squarespace’s team of more than 900 is headquartered in downtown New York City, with offices in Dublin and Portland. For more information, visit www.squarespace.com/about.\\r\\n\\r\\nToday, more than a million people around the globe use Squarespace to share different perspectives and experiences with the world. Not only do we embrace and celebrate the diversity of our customer base, but we also strive for the same in our employees. At Squarespace, we are committed to equal employment opportunity regardless of race, color, ancestry, religion, sex, national origin, sexual orientation, age, citizenship, marital status, disability, gender, gender identity or expression, or veteran status. We are proud to be an equal opportunity workplace.'\n",
      " ...\n",
      " 'Title: Technical Business Analyst (SQL, Data analytics, ETL)\\r\\nLocation: Denver, CO\\r\\nDuration: 12 Months Contract\\r\\nNotes: Offshore coordination is required, need to attend late evening/early morning calls;\\r\\nExperience with SQL, ETL (Preferred Informatica), Data Analytics\\r\\n\\r\\nJob Description:\\r\\nShould have 10+ years of relevant IT experience\\r\\nExcellent knowledge SQL programming & ETL side (Informatica)\\r\\nVery good knowledge in Data analytics area.\\r\\nAbility to understand data models and data items.\\r\\nUnderstanding of ETL (Informatica) processes, data flows and experience in defining transformations/mappings required\\r\\nEvaluating business processes, anticipating requirements, uncovering areas for improvement, and developing and implementing solutions.\\r\\nShould be able to juggle between multiple business stake holders for various business requirements\\r\\nManage multiple business stake holders and communicate with them effectively and promptly\\r\\nFlexible enough to work with offshore time to set up meeting with various offshore technical teams\\r\\nExcellent written and verbal communication skill is must\\r\\nPerforming requirements analysis.\\r\\nEffectively communicating your insights and plans to cross-functional team members and management.\\r\\nGathering critical information from meetings with various stakeholders and producing useful reports.\\r\\nWorking closely with internal customers IT Team, and managerial staff.\\r\\nServing as a liaison between stakeholders onshore and offshore\\r\\nEnsuring solutions meet business needs and requirements.\\r\\nPerforming user acceptance testing.\\r\\nWork with Project /Delivery manager and manage the projects, developing project plans, and monitoring performance.\\r\\nPrioritizing initiatives based on business needs and requirements.\\r\\nIdentify the dependencies between the projects /business area and prioritize the work accordingly\\r\\nLeading ongoing reviews of business processes and developing optimization strategies.\\r\\nStaying up-to-date on the latest process and IT advancements to automate and modernize systems.\\r\\nConducting meetings and presentations to share ideas and findings.\\r\\nShould have excellent documentation and presentation skill set.\\r\\nMonitoring deliverables and ensuring timely completion of projects.\\r\\nOverall understanding in data and analytics, salesforce, PeopleSoft, SharePoint will be an added advantage\\r\\nUnderstanding in Real Estate and Retail domain is a plus.'\n",
      " \"Summary\\r\\n\\r\\nResponsible for working cross-functionally to collect data and develop\\r\\n\\r\\nmodels to determine customer experience drivers utilizing a variety of data sources and techniques. Utilizes all phases of the analytics lifecycle to derive actionable insights from the end to end customer journey, with strength in question design, results interpretation, and statistical and analytical methods. Has in-depth knowledge in one or more business domains related to the customer experience. Usually determines own work priorities and has a passion for transforming the customer experience into our best product. Acts as resource for colleagues with less experience.\\r\\n\\r\\nEmployees at all levels are expected to:\\r\\n\\r\\n- Understand our Operating Principles; make them the guidelines for how you do your job\\r\\n\\r\\n- Own the customer experience - think and act in ways that put our customers first, give them seamless digital options at every touchpoint, and make them promoters of our products and services\\r\\n\\r\\n- Know your stuff - be enthusiastic learners, users and advocates of our game-changing technology, products and services, especially our digital tools and experiences\\r\\n\\r\\n- Win as a team - make big things happen by working together and being open to new ideas\\r\\n\\r\\n- Be an active part of the Net Promoter System - a way of working that brings more employee and customer feedback into the company - by joining huddles, making call backs and helping us elevate opportunities to do better for our customers\\r\\n\\r\\n- Drive results and growth\\r\\n\\r\\n- Respect and promote inclusion and diversity\\r\\n\\r\\n- Do what's right for each other, our customers, investors and our communities\\r\\n\\r\\nPrimary Responsibilities:\\r\\n\\r\\n- Identify systemic drivers of end to end customer experience utilizing analytic techniques\\r\\n\\r\\n- Assess impact of drivers and prioritize initiatives\\r\\n\\r\\n- Track success of initiatives\\r\\n\\r\\n- Effectively communicate drivers and priorities to business to drive change\\r\\n\\r\\nCore Responsibilities:\\r\\n\\r\\n- Collaborates with both the analytic organization and its technology partners to define and publish complex data products.\\r\\n\\r\\n- Provides training to and acts as technical resource for team members.\\r\\n\\r\\n- Acts as a subject matter expert in one or more data subject areas such as sales, call center, network operation, and financial data.\\r\\n\\r\\n- Serves as a team leader within a work group or on cross-functional teams; accepts team lead stretch assignments. Presents results, recommendations, and business insights to broader senior leadership team.\\r\\n\\r\\n- Produces a variety of reports, graphs, summaries and presentations that convey analytic results and align with business needs.\\r\\n\\r\\n- Performs basic research on root cause of data anomalies that are uncovered through normal course of analysis.\\r\\n\\r\\n- Writes complex SQL to query large data platforms such as Teradata, SQL server, Oracle and Hadoop to obtain data necessary for analysis. Combines data as needed from disparate data sources to complete analysis.\\r\\n\\r\\n- Participates in defining business intelligence requirements for projects and data requests.\\r\\n\\r\\n- Participates in multiple enterprise wide projects by providing data analysis to project leaders.\\r\\n\\r\\n- Follows best practices and established policies in business intelligence data analysis, maintenance, and data quality.\\r\\n\\r\\n- Creates technical documentation (internal).\\r\\n\\r\\n- Consistent exercise of independent judgment and discretion in matters of significance.\\r\\n\\r\\n- Regular, consistent and punctual attendance. Must be able to work nights and weekends, variable schedule(s) as necessary.\\r\\n\\r\\n- Other duties and responsibilities as assigned.\\r\\n\\r\\nEducation Level:\\r\\n\\r\\n- Bachelor’s Degree\\r\\n\\r\\nField of Study:\\r\\n\\r\\n- Business, Business Intelligence, Information Systems, or related field\\r\\n\\r\\nYears of Experience:\\r\\n\\r\\n- Generally, requires 5-8 years related experience.\\r\\n\\r\\nAdditional Requirements:\\r\\n\\r\\n- Confident with machine learning concepts and how to apply them for analytics; intermediate to advanced Python and/or R skills\\r\\n\\r\\n- Data wrangling skills to extract and cleanse data for analyses\\r\\n\\r\\n- Strong skills in data interpretation for insight\\r\\n\\r\\n- Strong skills in SQL and preferred experience with Hadoop/Hive\\r\\n\\r\\n- Strong data visualization and storytelling skills\\r\\n\\r\\n- Confident with foundational statistical concepts and their application in business\"\n",
      " \"You.\\r\\n\\r\\nYou bring your body, mind, heart and spirit to your work as a Senior Quality Data Analyst.\\r\\n\\r\\nYoure equally comfortable with performing data analysis/reporting/validation as well as researching data integrity issues.\\r\\n\\r\\nYoure great at what you do, but you want to be part of something even greater. Because you believe that while individuals can be strong, the right team is invincible.\\r\\n\\r\\nUs.\\r\\n\\r\\nSystem Services is our Corporate Headquarters in Broomfield, Colorado and is located within the Oracle campus. SCL Health is a faith-based, nonprofit healthcare organization dedicated to improving the well-being of the people we serve.\\r\\n\\r\\nBenefits are one of the ways we encourage health for you and your family. Our generous package includes medical, dental and vision coverage. But health is more than a well-working body: it encompasses body, mind and social well-being. To that end, weve launched a Healthy Living program to address your holistic health. Healthy Living includes financial incentives, digital tools, tobacco cessation, classes, counseling and paid time off. We also offer financial wellness tools and retirement planning.\\r\\n\\r\\nWe.\\r\\n\\r\\nTogether well align mission and careers, values and workplace. Well encourage joy and take pride in our integrity.\\r\\n\\r\\nWell laugh at each others jokes (even the bad ones). Well hello and high five. Well celebrate milestones and acknowledge the value of spirituality in healing.\\r\\n\\r\\nWere proud of what we know, which includes how much there is to learn.\\r\\n\\r\\nYour day.\\r\\n\\r\\nAs a Sr. Quality Data Analyst you need to know how to:\\r\\nCreate reports and scorecards/dashboards to track the progress of quality, safety and risk efforts as it relates to internal and external programs including, but not limited to, Operational Performance Goals (OPG), Integrated Quality Scorecard (IQS), CMS, The Joint Commission, Leapfrog, etc.\\r\\nAble to conceptualize and create effective data extracts from multiple sources to complete complex analysis.\\r\\nValidate data sources, appropriate mapping and identify variances.\\r\\nAbility to identify and clearly articulate data points for inclusion in data tables for identified measures.\\r\\nResponsible for managing scope and completion of work, meeting deadlines, and providing deliverables to the customers or end users.\\r\\nManage complex projects, schedules and facilitates meetings as necessary to complete assignments.\\r\\nDevelop and manage the process for identifying and communicating (e.g. via a report) open gaps.\\r\\nProvide analytic support for internal/external reporting as requested.\\r\\nParticipate in Data Governance and Validation Activities as requested to assure data integrity.\\r\\nYour experience.\\r\\n\\r\\nWe hire people, not resumes. But we also expect excellence, which is why we require:\\r\\nBachelor's degree required, or equivalent Informatics experience, required\\r\\nMinimum of five (5) years of experience in data analytics, required\\r\\nMinimum of three (3) years of experience in a healthcare setting, required\\r\\nHighly prefer Epic experience / Clarity certification\\r\\nMust have prior experience with Tableau\\r\\nBackground and experience in statistics and data management and automation\\r\\nYour next move.\\r\\n\\r\\nNow that you know more about being a Sr. Quality Data Analyst on our team we hope youll join us. At SCL Health youll reaffirm every day how much you love this work, and why you were called to it in the first place.\\r\\n\\r\\nLocated in Broomfield, CO.\\r\\n\\r\\nApply Today!\"]\n",
      "[ 3.2  3.8  3.4  4.1  3.9  4.4  3.7  4.  -1.   3.   3.6  4.9  3.3  3.5\n",
      "  5.   4.8  4.7  4.6  2.9  1.   3.1  4.5  2.3  4.2  2.8  4.3  2.7  2.5\n",
      "  2.6  2.4  2.   2.1  1.7  2.2  1.8  1.6  1.9]\n",
      "['201 to 500 employees' '10000+ employees' '1001 to 5000 employees'\n",
      " '501 to 1000 employees' '5001 to 10000 employees' '1 to 50 employees'\n",
      " '51 to 200 employees' 'Unknown' '-1']\n",
      "['Non-Profit' 'Health Care' 'Information Technology'\n",
      " 'Arts, Entertainment & Recreation' 'Finance' 'Insurance'\n",
      " 'Business Services' '-1' 'Restaurants, Bars & Food Services' 'Media'\n",
      " 'Accounting & Legal' 'Real Estate' 'Government' 'Retail'\n",
      " 'Consumer Services' 'Biotech & Pharmaceuticals' 'Education'\n",
      " 'Construction, Repair & Maintenance' 'Oil, Gas, Energy & Utilities'\n",
      " 'Manufacturing' 'Aerospace & Defense' 'Telecommunications'\n",
      " 'Transportation & Logistics' 'Mining & Metals' 'Travel & Tourism']\n",
      "['$100 to $500 million (USD)' '$2 to $5 billion (USD)'\n",
      " 'Unknown / Non-Applicable' '$50 to $100 million (USD)'\n",
      " '$1 to $2 billion (USD)' '$5 to $10 billion (USD)'\n",
      " '$1 to $5 million (USD)' '$25 to $50 million (USD)' '$10+ billion (USD)'\n",
      " 'Less than $1 million (USD)' '$10 to $25 million (USD)' '-1'\n",
      " '$500 million to $1 billion (USD)' '$5 to $10 million (USD)']\n"
     ]
    }
   ],
   "source": [
    "# 3)check abnormal values\n",
    "for col in df.columns:\n",
    "    print(df[col].unique())"
   ]
  },
  {
   "cell_type": "markdown",
   "metadata": {},
   "source": [
    "There are two kinds of abnormal values: -1 and '-1'. They may be missing values, so replace them to nan."
   ]
  },
  {
   "cell_type": "code",
   "execution_count": 6,
   "metadata": {},
   "outputs": [],
   "source": [
    "# replace -1 or '-1' into nan for every column\n",
    "def replace_abnormal(df):\n",
    "    \"\"\"\n",
    "    replace -1 or '-1' into nan for every column\n",
    "    \n",
    "    INPUT:\n",
    "    df-the pandas dataframe need to be cleaned\n",
    "    \n",
    "    OUTPUT:\n",
    "    None\n",
    "\n",
    "    \"\"\"\n",
    "    for col in df.columns:\n",
    "        if not df[df[col] == -1].empty:\n",
    "            df[col] = df[col].replace(-1,np.nan)\n",
    "        elif not df[df[col] == '-1'].empty:\n",
    "            df[col] = df[col].replace('-1',np.nan)\n",
    "    \n",
    "# run this function\n",
    "replace_abnormal(df)"
   ]
  },
  {
   "cell_type": "markdown",
   "metadata": {},
   "source": [
    "After running function 'replace_abnormal', there is no '-1' or -1 values. Becasue different columns may correspond to different processing methods, so I would check columns one by one in the next steps."
   ]
  },
  {
   "cell_type": "code",
   "execution_count": 7,
   "metadata": {
    "scrolled": true
   },
   "outputs": [
    {
     "data": {
      "text/plain": [
       "data analyst                                                                        411\n",
       "senior data analyst                                                                  92\n",
       "junior data analyst                                                                  30\n",
       "business data analyst                                                                28\n",
       "sr. data analyst                                                                     21\n",
       "data analyst junior                                                                  17\n",
       "data quality analyst                                                                 17\n",
       "data analyst ii                                                                      17\n",
       "data governance analyst                                                              16\n",
       "lead data analyst                                                                    15\n",
       "data reporting analyst                                                               13\n",
       "financial data analyst                                                               12\n",
       "data analyst i                                                                       11\n",
       "data analyst iii                                                                     11\n",
       "marketing data analyst                                                                9\n",
       "sr data analyst                                                                       9\n",
       "data warehouse analyst                                                                8\n",
       "data management analyst                                                               8\n",
       "technical data analyst                                                                8\n",
       "clinical data analyst                                                                 8\n",
       "sql data analyst                                                                      7\n",
       "data science analyst                                                                  7\n",
       "research data analyst                                                                 6\n",
       "data security analyst                                                                 6\n",
       "healthcare data analyst                                                               6\n",
       "senior healthcare data analyst                                                        5\n",
       "data analyst iii (healthcare analytics)                                               5\n",
       "ny healthcare data/reporting analyst                                                  5\n",
       "product data analyst                                                                  5\n",
       "operations data analyst                                                               5\n",
       "master data analyst                                                                   4\n",
       "business/data analyst                                                                 4\n",
       "healthcare data/reporting analyst                                                     4\n",
       "data warehouse analyst iii                                                            4\n",
       "senior contract data analyst                                                          4\n",
       "data analyst, data & analytics (advanced analytics) manager (multiple positions)      4\n",
       "senior data quality analyst                                                           4\n",
       "data analyst intern                                                                   4\n",
       "tx healthcare data/reporting analyst                                                  4\n",
       "quality data analyst                                                                  4\n",
       "big data analyst                                                                      4\n",
       "data base programmer/analyst                                                          4\n",
       "division data and financial analyst                                                   3\n",
       "data analyst iv                                                                       3\n",
       "senior business data analyst                                                          3\n",
       "sap data analyst                                                                      3\n",
       "data and reporting analyst                                                            3\n",
       "data integrity analyst                                                                3\n",
       "pricing data analyst                                                                  3\n",
       "data systems analyst                                                                  3\n",
       "Name: Job Title, dtype: int64"
      ]
     },
     "execution_count": 7,
     "metadata": {},
     "output_type": "execute_result"
    }
   ],
   "source": [
    "# df.columns[0]] \n",
    "df['Job Title'].value_counts(dropna=False) # some job title could be classified into one type\n",
    "df['Job Title'] = df['Job Title'].str.lower() # converts fields to lowercase for easy categorization: such as data analyst and DATA ANALYST are the same \n",
    "df['Job Title'].value_counts()[:50]   # checkout the top 50 job title "
   ]
  },
  {
   "cell_type": "code",
   "execution_count": 8,
   "metadata": {
    "scrolled": true
   },
   "outputs": [
    {
     "data": {
      "text/plain": [
       "data analyst                                                                        411\n",
       "senior data analyst                                                                 122\n",
       "junior data analyst                                                                  47\n",
       "data business analyst                                                                31\n",
       "data quality analyst                                                                 21\n",
       "data analyst ii                                                                      17\n",
       "data governance analyst                                                              16\n",
       "reporting data analyst                                                               16\n",
       "lead data analyst                                                                    15\n",
       "financial data analyst                                                               12\n",
       "data analyst iii                                                                     11\n",
       "data analyst i                                                                       11\n",
       "marketing data analyst                                                                9\n",
       "clinical data analyst                                                                 8\n",
       "data warehouse analyst                                                                8\n",
       "technical data analyst                                                                8\n",
       "data management analyst                                                               8\n",
       "data science analyst                                                                  7\n",
       "sql data analyst                                                                      7\n",
       "healthcare data analyst                                                               6\n",
       "research data analyst                                                                 6\n",
       "data security analyst                                                                 6\n",
       "senior healthcare data analyst                                                        5\n",
       "ny healthcare data/reporting analyst                                                  5\n",
       "product data analyst                                                                  5\n",
       "operations data analyst                                                               5\n",
       "data analyst iii (healthcare analytics)                                               5\n",
       "data warehouse analyst iii                                                            4\n",
       "master data analyst                                                                   4\n",
       "healthcare data/reporting analyst                                                     4\n",
       "business/data analyst                                                                 4\n",
       "data analyst, data & analytics (advanced analytics) manager (multiple positions)      4\n",
       "data base programmer/analyst                                                          4\n",
       "senior contract data analyst                                                          4\n",
       "tx healthcare data/reporting analyst                                                  4\n",
       "data analyst intern                                                                   4\n",
       "big data analyst                                                                      4\n",
       "senior data quality analyst                                                           4\n",
       "data systems analyst                                                                  3\n",
       "data and reporting analyst                                                            3\n",
       "senior product data analyst                                                           3\n",
       "pricing data analyst                                                                  3\n",
       "data analyst- remote                                                                  3\n",
       "hr data analyst                                                                       3\n",
       "sap data analyst                                                                      3\n",
       "sas data analyst                                                                      3\n",
       "sr. data governance analyst                                                           3\n",
       "data collection analyst                                                               3\n",
       "radar telemetry data analyst                                                          3\n",
       "data visualization analyst                                                            3\n",
       "Name: Job Title, dtype: int64"
      ]
     },
     "execution_count": 8,
     "metadata": {},
     "output_type": "execute_result"
    }
   ],
   "source": [
    "# Unify the duplicate type\n",
    "df = df.replace('sr. data analyst','senior data analyst')\n",
    "df = df.replace('sr data analyst','senior data analyst')\n",
    "df = df.replace('data analyst junior','junior data analyst')  \n",
    "df = df.replace('quality data analyst','data quality analyst')\n",
    "df = df.replace('business data analyst','data business analyst')\n",
    "df = df.replace('data reporting analyst','reporting data analyst')\n",
    "df['Job Title'].value_counts()[:50]  "
   ]
  },
  {
   "cell_type": "markdown",
   "metadata": {},
   "source": [
    "1.'Job Title' column has no missing value but many titles could be classfied, such as 'data analyst' and 'DATA ANALYST', 'sr. data analyst','senior data analyst'.So I convert fields to lowercase for easy categorization and then unify these kinds values.<br>\n",
    "2.I choose the top 50 type titles and unify the duplicate type"
   ]
  },
  {
   "cell_type": "code",
   "execution_count": 9,
   "metadata": {},
   "outputs": [],
   "source": [
    "# df.columns[1]\n",
    "df['Salary Estimate'].value_counts(dropna=False)\n",
    "df['Salary Estimate'].isnull().mean() * 100 # only exists 1 missing value, so I decide to drop this data\n",
    "df[df['Salary Estimate'].isnull()]  # the row that contain missing value\n",
    "df.drop(index=2149,inplace=True)    "
   ]
  },
  {
   "cell_type": "markdown",
   "metadata": {},
   "source": [
    "For 'Salary Estimate' column, the missing proportion is too tiny and there is much missing values for this row so I drop this row ."
   ]
  },
  {
   "cell_type": "code",
   "execution_count": 10,
   "metadata": {},
   "outputs": [],
   "source": [
    "# split salary estimate into lower and upper columns\n",
    "s = df[\"Salary Estimate\"].str.split(\" \",n= 1,expand=True)\n",
    "sr = s[0].str.split('-',expand=True,n=1)\n",
    "df['lower_salary'] = sr[0].str.replace('$','')\n",
    "df['lower_salary'] = df['lower_salary'].str.replace('K','000')\n",
    "df['upper_salary'] = sr[1].str.replace('$','')\n",
    "df['upper_salary'] = df['upper_salary'].str.replace('K','000')\n",
    "\n",
    "# convert data type\n",
    "df['upper_salary'] = df['upper_salary'].astype('int')\n",
    "df['lower_salary'] = df['lower_salary'].astype('int')\n",
    "\n",
    "# add new column 'average_salary'\n",
    "df['average_salary'] = (df['upper_salary'] + df['lower_salary']) / 2\n",
    "\n",
    "# delete column\n",
    "df = df.drop(columns=['Salary Estimate', 'upper_salary', 'lower_salary'])"
   ]
  },
  {
   "cell_type": "markdown",
   "metadata": {},
   "source": [
    "Split 'Salary Estimate' column into 'upper_salary' column and 'lower_salary' and convert into int type. After doing these, add a 'average_salary' column and drop relate column."
   ]
  },
  {
   "cell_type": "code",
   "execution_count": 11,
   "metadata": {},
   "outputs": [
    {
     "data": {
      "text/plain": [
       "0.0"
      ]
     },
     "execution_count": 11,
     "metadata": {},
     "output_type": "execute_result"
    }
   ],
   "source": [
    "# df.columns[2]\n",
    "df['Job Description'].value_counts(dropna=False)\n",
    "df['Job Description'].isnull().mean()   # no missing values"
   ]
  },
  {
   "cell_type": "markdown",
   "metadata": {},
   "source": [
    "'Job Description' column has neither abnormal values or missing values."
   ]
  },
  {
   "cell_type": "code",
   "execution_count": 12,
   "metadata": {},
   "outputs": [
    {
     "name": "stdout",
     "output_type": "stream",
     "text": [
      "0.12078152753108348\n"
     ]
    }
   ],
   "source": [
    "# df.columns[3]\n",
    "df['Rating'].unique() \n",
    "print(df['Rating'].isnull().mean())  # missing proportion is 12%\n",
    "df['Rating'] = df['Rating'].fillna(df['Rating'].mean()) # fill nan into the mean"
   ]
  },
  {
   "cell_type": "markdown",
   "metadata": {},
   "source": [
    "There is 12% missing values for 'Rating' column. Fill nan into the column mean."
   ]
  },
  {
   "cell_type": "code",
   "execution_count": 13,
   "metadata": {},
   "outputs": [
    {
     "data": {
      "text/plain": [
       "array(['201 to 500 employees', '10000+ employees',\n",
       "       '1001 to 5000 employees', '501 to 1000 employees',\n",
       "       '5001 to 10000 employees', '1 to 50 employees',\n",
       "       '51 to 200 employees', 'Unknown'], dtype=object)"
      ]
     },
     "execution_count": 13,
     "metadata": {},
     "output_type": "execute_result"
    }
   ],
   "source": [
    "# df.columns[4]\n",
    "df['Size'].unique()\n",
    "# fill nan into Unkon\n",
    "df['Size'] = df['Size'].fillna('Unknown')\n",
    "df['Size'].unique()"
   ]
  },
  {
   "cell_type": "markdown",
   "metadata": {},
   "source": [
    "For 'Size' column, fill nan into 'Unknown'."
   ]
  },
  {
   "cell_type": "code",
   "execution_count": 14,
   "metadata": {},
   "outputs": [
    {
     "name": "stdout",
     "output_type": "stream",
     "text": [
      "0.15674955595026643\n"
     ]
    }
   ],
   "source": [
    "# df.columns[5]\n",
    "df['Sector'].unique()\n",
    "print(df['Sector'].isnull().mean())\n",
    "df['Sector'] = df['Sector'].fillna('Unknown')  "
   ]
  },
  {
   "cell_type": "markdown",
   "metadata": {},
   "source": [
    "The mission proportion for 'Sector' column is 16%, fill nan into 'Unknown'."
   ]
  },
  {
   "cell_type": "code",
   "execution_count": 15,
   "metadata": {},
   "outputs": [
    {
     "data": {
      "text/plain": [
       "Unknown / Non-Applicable    778\n",
       "$100 to $500 million        218\n",
       "$50 to $100 million         199\n",
       "more than $10000 million    189\n",
       "$10 to $25 million          132\n",
       "$2000 to $5000 million      129\n",
       "$1 to $5 million            111\n",
       "$25 to $50 million          109\n",
       "Less than $1 million         93\n",
       "$1000 to $2000 million       87\n",
       "$500 to $10000 million       79\n",
       "$5 to $10 million            72\n",
       "$5000 to $10000 million      56\n",
       "Name: Revenue, dtype: int64"
      ]
     },
     "execution_count": 15,
     "metadata": {},
     "output_type": "execute_result"
    }
   ],
   "source": [
    "# df.columns[6]\n",
    "df['Revenue'].unique()\n",
    "# replace billion to million\n",
    "df['Revenue'] = df['Revenue'].fillna('Unknown / Non-Applicable')\n",
    "df = df.replace('$1 to $2 billion (USD)','$1000 to $2000 million')\n",
    "df = df.replace('$2 to $5 billion (USD)','$2000 to $5000 million')\n",
    "df = df.replace('$5 to $10 billion (USD)','$5000 to $10000 million')\n",
    "df = df.replace('$10+ billion (USD)','more than $10000 million')\n",
    "df = df.replace('$500 million to $1 billion (USD)','$500 to $10000 million')\n",
    "df['Revenue'] = df['Revenue'].str.split('(',expand=True)[0]\n",
    "df['Revenue'].value_counts()"
   ]
  },
  {
   "cell_type": "markdown",
   "metadata": {},
   "source": [
    "For 'Revenue' column, I fill nan ito 'Unknown / Non-Applicable' and unify units into millions."
   ]
  },
  {
   "cell_type": "code",
   "execution_count": 16,
   "metadata": {},
   "outputs": [
    {
     "name": "stdout",
     "output_type": "stream",
     "text": [
      "Job Title          0.0\n",
      "Job Description    0.0\n",
      "Rating             0.0\n",
      "Size               0.0\n",
      "Sector             0.0\n",
      "Revenue            0.0\n",
      "average_salary     0.0\n",
      "dtype: float64\n"
     ]
    }
   ],
   "source": [
    "# Now, the missing values for all columns\n",
    "print(df.isnull().mean().sort_values() * 100)"
   ]
  },
  {
   "cell_type": "markdown",
   "metadata": {},
   "source": [
    "The basic cleaning process is done.Get ride of abnormal values."
   ]
  },
  {
   "cell_type": "markdown",
   "metadata": {},
   "source": [
    "## 4.Analysis process"
   ]
  },
  {
   "cell_type": "markdown",
   "metadata": {},
   "source": [
    "Q1.Which direction do data analysts get paid more?"
   ]
  },
  {
   "cell_type": "code",
   "execution_count": 17,
   "metadata": {},
   "outputs": [
    {
     "data": {
      "text/html": [
       "<div>\n",
       "<style scoped>\n",
       "    .dataframe tbody tr th:only-of-type {\n",
       "        vertical-align: middle;\n",
       "    }\n",
       "\n",
       "    .dataframe tbody tr th {\n",
       "        vertical-align: top;\n",
       "    }\n",
       "\n",
       "    .dataframe thead th {\n",
       "        text-align: right;\n",
       "    }\n",
       "</style>\n",
       "<table border=\"1\" class=\"dataframe\">\n",
       "  <thead>\n",
       "    <tr style=\"text-align: right;\">\n",
       "      <th></th>\n",
       "      <th>average_salary</th>\n",
       "    </tr>\n",
       "    <tr>\n",
       "      <th>Sector</th>\n",
       "      <th></th>\n",
       "    </tr>\n",
       "  </thead>\n",
       "  <tbody>\n",
       "    <tr>\n",
       "      <th>Restaurants, Bars &amp; Food Services</th>\n",
       "      <td>54000.000000</td>\n",
       "    </tr>\n",
       "    <tr>\n",
       "      <th>Mining &amp; Metals</th>\n",
       "      <td>59500.000000</td>\n",
       "    </tr>\n",
       "    <tr>\n",
       "      <th>Travel &amp; Tourism</th>\n",
       "      <td>62000.000000</td>\n",
       "    </tr>\n",
       "    <tr>\n",
       "      <th>Oil, Gas, Energy &amp; Utilities</th>\n",
       "      <td>63269.230769</td>\n",
       "    </tr>\n",
       "    <tr>\n",
       "      <th>Government</th>\n",
       "      <td>64319.444444</td>\n",
       "    </tr>\n",
       "  </tbody>\n",
       "</table>\n",
       "</div>"
      ],
      "text/plain": [
       "                                   average_salary\n",
       "Sector                                           \n",
       "Restaurants, Bars & Food Services    54000.000000\n",
       "Mining & Metals                      59500.000000\n",
       "Travel & Tourism                     62000.000000\n",
       "Oil, Gas, Energy & Utilities         63269.230769\n",
       "Government                           64319.444444"
      ]
     },
     "metadata": {},
     "output_type": "display_data"
    }
   ],
   "source": [
    "# group the dataset by 'Sector'\n",
    "group_job = df.groupby('Sector')\n",
    "\n",
    "# create a new df to store grouped data\n",
    "new_df = pd.DataFrame()\n",
    "new_df['average_salary'] = group_job.average_salary.mean()\n",
    "new_df = new_df.sort_values(by=['average_salary'],ascending=True)\n",
    "display(new_df[:5]) # top 5 sector"
   ]
  },
  {
   "cell_type": "code",
   "execution_count": 18,
   "metadata": {},
   "outputs": [
    {
     "data": {
      "image/png": "[encoded data removed]",
      "text/plain": [
       "<Figure size 1600x640 with 1 Axes>"
      ]
     },
     "metadata": {
      "needs_background": "light"
     },
     "output_type": "display_data"
    }
   ],
   "source": [
    "# visilization\n",
    "plt.figure(figsize=(20, 8), dpi=80)\n",
    "new_df['average_salary'].plot.barh();\n",
    "plt.title('Different sector with high salary',fontsize=28);\n",
    "plt.xlabel('Estimate average salary',fontsize=20);\n",
    "plt.ylabel('Sector',fontsize=20);"
   ]
  },
  {
   "cell_type": "markdown",
   "metadata": {},
   "source": [
    "Answer 1:<br>From the above data, 'Information Technology', 'Accounting&Legal', 'Art, Entertainment & Recreation', 'Real Estate' and 'Biotech & Pharmaceuticals' are top 5 sectors that data analysts might earn relative higher salary in. If someone considers to be a data analyst, he/she could look for job opportunities in these sector."
   ]
  },
  {
   "cell_type": "markdown",
   "metadata": {},
   "source": [
    "Q2.What kinds of skills I need to master?"
   ]
  },
  {
   "cell_type": "code",
   "execution_count": 19,
   "metadata": {
    "scrolled": true
   },
   "outputs": [],
   "source": [
    "# come up with common skills\n",
    "possible_skills = ['python','sql','git','gitHub','coding','programming skills','problem-solving ability','logical reasoning skills','sas','stata', 'word','powerpoint',\n",
    "         'excel','access','bi','tableau','communication skills','multitask','visualization','analytical skills','modeling','mindmapping','microsoft office'\n",
    "         'organizational skills']\n",
    "df['Job Description'] = df['Job Description'].str.lower()"
   ]
  },
  {
   "cell_type": "code",
   "execution_count": 20,
   "metadata": {},
   "outputs": [
    {
     "data": {
      "text/html": [
       "<div>\n",
       "<style scoped>\n",
       "    .dataframe tbody tr th:only-of-type {\n",
       "        vertical-align: middle;\n",
       "    }\n",
       "\n",
       "    .dataframe tbody tr th {\n",
       "        vertical-align: top;\n",
       "    }\n",
       "\n",
       "    .dataframe thead th {\n",
       "        text-align: right;\n",
       "    }\n",
       "</style>\n",
       "<table border=\"1\" class=\"dataframe\">\n",
       "  <thead>\n",
       "    <tr style=\"text-align: right;\">\n",
       "      <th></th>\n",
       "      <th>skill</th>\n",
       "      <th>count</th>\n",
       "    </tr>\n",
       "  </thead>\n",
       "  <tbody>\n",
       "    <tr>\n",
       "      <th>7</th>\n",
       "      <td>bi</td>\n",
       "      <td>2062</td>\n",
       "    </tr>\n",
       "    <tr>\n",
       "      <th>1</th>\n",
       "      <td>sql</td>\n",
       "      <td>1388</td>\n",
       "    </tr>\n",
       "    <tr>\n",
       "      <th>12</th>\n",
       "      <td>excel</td>\n",
       "      <td>1353</td>\n",
       "    </tr>\n",
       "    <tr>\n",
       "      <th>17</th>\n",
       "      <td>communication skills</td>\n",
       "      <td>723</td>\n",
       "    </tr>\n",
       "    <tr>\n",
       "      <th>0</th>\n",
       "      <td>python</td>\n",
       "      <td>637</td>\n",
       "    </tr>\n",
       "    <tr>\n",
       "      <th>13</th>\n",
       "      <td>tableau</td>\n",
       "      <td>620</td>\n",
       "    </tr>\n",
       "    <tr>\n",
       "      <th>6</th>\n",
       "      <td>access</td>\n",
       "      <td>544</td>\n",
       "    </tr>\n",
       "    <tr>\n",
       "      <th>14</th>\n",
       "      <td>visualization</td>\n",
       "      <td>517</td>\n",
       "    </tr>\n",
       "    <tr>\n",
       "      <th>16</th>\n",
       "      <td>modeling</td>\n",
       "      <td>433</td>\n",
       "    </tr>\n",
       "    <tr>\n",
       "      <th>8</th>\n",
       "      <td>sas</td>\n",
       "      <td>411</td>\n",
       "    </tr>\n",
       "    <tr>\n",
       "      <th>15</th>\n",
       "      <td>analytical skills</td>\n",
       "      <td>327</td>\n",
       "    </tr>\n",
       "    <tr>\n",
       "      <th>2</th>\n",
       "      <td>git</td>\n",
       "      <td>298</td>\n",
       "    </tr>\n",
       "    <tr>\n",
       "      <th>10</th>\n",
       "      <td>word</td>\n",
       "      <td>271</td>\n",
       "    </tr>\n",
       "    <tr>\n",
       "      <th>11</th>\n",
       "      <td>powerpoint</td>\n",
       "      <td>193</td>\n",
       "    </tr>\n",
       "    <tr>\n",
       "      <th>3</th>\n",
       "      <td>coding</td>\n",
       "      <td>149</td>\n",
       "    </tr>\n",
       "    <tr>\n",
       "      <th>19</th>\n",
       "      <td>multitask</td>\n",
       "      <td>42</td>\n",
       "    </tr>\n",
       "    <tr>\n",
       "      <th>18</th>\n",
       "      <td>programming skills</td>\n",
       "      <td>37</td>\n",
       "    </tr>\n",
       "    <tr>\n",
       "      <th>9</th>\n",
       "      <td>stata</td>\n",
       "      <td>30</td>\n",
       "    </tr>\n",
       "    <tr>\n",
       "      <th>4</th>\n",
       "      <td>problem-solving ability</td>\n",
       "      <td>7</td>\n",
       "    </tr>\n",
       "    <tr>\n",
       "      <th>5</th>\n",
       "      <td>logical reasoning skills</td>\n",
       "      <td>3</td>\n",
       "    </tr>\n",
       "    <tr>\n",
       "      <th>20</th>\n",
       "      <td>mindmapping</td>\n",
       "      <td>1</td>\n",
       "    </tr>\n",
       "  </tbody>\n",
       "</table>\n",
       "</div>"
      ],
      "text/plain": [
       "                       skill  count\n",
       "7                         bi   2062\n",
       "1                        sql   1388\n",
       "12                     excel   1353\n",
       "17      communication skills    723\n",
       "0                     python    637\n",
       "13                   tableau    620\n",
       "6                     access    544\n",
       "14             visualization    517\n",
       "16                  modeling    433\n",
       "8                        sas    411\n",
       "15         analytical skills    327\n",
       "2                        git    298\n",
       "10                      word    271\n",
       "11                powerpoint    193\n",
       "3                     coding    149\n",
       "19                 multitask     42\n",
       "18        programming skills     37\n",
       "9                      stata     30\n",
       "4    problem-solving ability      7\n",
       "5   logical reasoning skills      3\n",
       "20               mindmapping      1"
      ]
     },
     "metadata": {},
     "output_type": "display_data"
    }
   ],
   "source": [
    "def total_count(df,col, look_for):\n",
    "    \"\"\"\n",
    "    INPUT:\n",
    "    df - the pandas dataframe you want to search\n",
    "    col - the column name you want to look through\n",
    "    look_for - a list of strings you want to search for in each row of df[col]\n",
    "    OUTPUT:\n",
    "    new_df - a dataframe of each look_for with the count of how often it shows up\n",
    "    \"\"\"\n",
    "    from collections import defaultdict\n",
    "    new_df = defaultdict(int)\n",
    "    for description in df[col]:\n",
    "        for skill in look_for:\n",
    "            if skill in description:\n",
    "                new_df[skill] += 1\n",
    "    new_df = pd.DataFrame(pd.Series(new_df)).reset_index()\n",
    "    new_df.columns = ['skill', 'count']\n",
    "    new_df.sort_values('count', ascending=False, inplace=True)\n",
    "    return new_df\n",
    "\n",
    "\n",
    "skills_df = total_count(df,'Job Description',possible_skills)\n",
    "display(skills_df)"
   ]
  },
  {
   "cell_type": "code",
   "execution_count": 21,
   "metadata": {},
   "outputs": [
    {
     "data": {
      "text/html": [
       "<div>\n",
       "<style scoped>\n",
       "    .dataframe tbody tr th:only-of-type {\n",
       "        vertical-align: middle;\n",
       "    }\n",
       "\n",
       "    .dataframe tbody tr th {\n",
       "        vertical-align: top;\n",
       "    }\n",
       "\n",
       "    .dataframe thead th {\n",
       "        text-align: right;\n",
       "    }\n",
       "</style>\n",
       "<table border=\"1\" class=\"dataframe\">\n",
       "  <thead>\n",
       "    <tr style=\"text-align: right;\">\n",
       "      <th></th>\n",
       "      <th>skill</th>\n",
       "      <th>count</th>\n",
       "    </tr>\n",
       "  </thead>\n",
       "  <tbody>\n",
       "    <tr>\n",
       "      <th>7</th>\n",
       "      <td>bi</td>\n",
       "      <td>2062</td>\n",
       "    </tr>\n",
       "    <tr>\n",
       "      <th>1</th>\n",
       "      <td>sql</td>\n",
       "      <td>1388</td>\n",
       "    </tr>\n",
       "    <tr>\n",
       "      <th>12</th>\n",
       "      <td>excel</td>\n",
       "      <td>1353</td>\n",
       "    </tr>\n",
       "    <tr>\n",
       "      <th>14</th>\n",
       "      <td>visualization(tableau+)</td>\n",
       "      <td>1137</td>\n",
       "    </tr>\n",
       "    <tr>\n",
       "      <th>16</th>\n",
       "      <td>analytical skills(modeling+)</td>\n",
       "      <td>760</td>\n",
       "    </tr>\n",
       "    <tr>\n",
       "      <th>17</th>\n",
       "      <td>communication skills</td>\n",
       "      <td>723</td>\n",
       "    </tr>\n",
       "    <tr>\n",
       "      <th>0</th>\n",
       "      <td>python</td>\n",
       "      <td>637</td>\n",
       "    </tr>\n",
       "    <tr>\n",
       "      <th>6</th>\n",
       "      <td>access</td>\n",
       "      <td>544</td>\n",
       "    </tr>\n",
       "    <tr>\n",
       "      <th>8</th>\n",
       "      <td>sas</td>\n",
       "      <td>411</td>\n",
       "    </tr>\n",
       "    <tr>\n",
       "      <th>2</th>\n",
       "      <td>git</td>\n",
       "      <td>298</td>\n",
       "    </tr>\n",
       "    <tr>\n",
       "      <th>10</th>\n",
       "      <td>word</td>\n",
       "      <td>271</td>\n",
       "    </tr>\n",
       "    <tr>\n",
       "      <th>11</th>\n",
       "      <td>powerpoint</td>\n",
       "      <td>193</td>\n",
       "    </tr>\n",
       "    <tr>\n",
       "      <th>3</th>\n",
       "      <td>coding</td>\n",
       "      <td>186</td>\n",
       "    </tr>\n",
       "    <tr>\n",
       "      <th>19</th>\n",
       "      <td>multitask</td>\n",
       "      <td>42</td>\n",
       "    </tr>\n",
       "    <tr>\n",
       "      <th>9</th>\n",
       "      <td>stata</td>\n",
       "      <td>30</td>\n",
       "    </tr>\n",
       "  </tbody>\n",
       "</table>\n",
       "</div>"
      ],
      "text/plain": [
       "                           skill  count\n",
       "7                             bi   2062\n",
       "1                            sql   1388\n",
       "12                         excel   1353\n",
       "14       visualization(tableau+)   1137\n",
       "16  analytical skills(modeling+)    760\n",
       "17          communication skills    723\n",
       "0                         python    637\n",
       "6                         access    544\n",
       "8                            sas    411\n",
       "2                            git    298\n",
       "10                          word    271\n",
       "11                    powerpoint    193\n",
       "3                         coding    186\n",
       "19                     multitask     42\n",
       "9                          stata     30"
      ]
     },
     "execution_count": 21,
     "metadata": {},
     "output_type": "execute_result"
    }
   ],
   "source": [
    "# merge rows\n",
    "skills_df['count'][3] = skills_df['count'][3] + skills_df['count'][18]\n",
    "skills_df['count'][14] = skills_df['count'][14] + skills_df['count'][13]\n",
    "skills_df['skill'][14] = 'visualization(tableau+)'\n",
    "skills_df['count'][16] = skills_df['count'][16] + skills_df['count'][15]\n",
    "skills_df['skill'][16] = 'analytical skills(modeling+)'\n",
    "\n",
    "# drop useless rows\n",
    "skills_df.drop(index=[18,13,15],inplace=True)\n",
    "\n",
    "# top 15 skills\n",
    "skills_df.sort_values('count', ascending=False, inplace=True)\n",
    "skills_df[:15]"
   ]
  },
  {
   "cell_type": "code",
   "execution_count": 22,
   "metadata": {},
   "outputs": [
    {
     "data": {
      "image/png": "[encoded data removed]",
      "text/plain": [
       "<Figure size 720x288 with 1 Axes>"
      ]
     },
     "metadata": {
      "needs_background": "light"
     },
     "output_type": "display_data"
    }
   ],
   "source": [
    "x = list(skills_df[:15]['skill'])\n",
    "y = skills_df[:15]['count']\n",
    "plt.figure(figsize=(10,4))\n",
    "plt.barh(range(len(x)), y, height=0.3, color=\"orange\"); \n",
    "plt.yticks(range(len(x)), x);\n",
    "plt.ylabel('skills',fontsize=15);\n",
    "plt.xlabel('count',fontsize=15);\n",
    "plt.title('Top 15 kinds skills required',fontsize=20);"
   ]
  },
  {
   "cell_type": "markdown",
   "metadata": {},
   "source": [
    "Answer 2:\n",
    "<p>skills required in job descriptions:</p>\n",
    " BI,SQL,Excel,Communication skills,Python/R,Visualization(Tableau,or may be other tools),Access,Analytical sills(Modeling,etc.),Statistical software,Office software,Coding.\n",
    "These are the most mentioned skills."
   ]
  },
  {
   "cell_type": "markdown",
   "metadata": {},
   "source": [
    "## 5.Data Modeling"
   ]
  },
  {
   "cell_type": "markdown",
   "metadata": {},
   "source": [
    "Q3.Should I go to big-size company if taking into account wages?\n",
    "Think about it in terms of  'Size','Salary','Rating' and 'Revenue' features"
   ]
  },
  {
   "cell_type": "code",
   "execution_count": 23,
   "metadata": {
    "scrolled": true
   },
   "outputs": [
    {
     "data": {
      "text/html": [
       "<div>\n",
       "<style scoped>\n",
       "    .dataframe tbody tr th:only-of-type {\n",
       "        vertical-align: middle;\n",
       "    }\n",
       "\n",
       "    .dataframe tbody tr th {\n",
       "        vertical-align: top;\n",
       "    }\n",
       "\n",
       "    .dataframe thead th {\n",
       "        text-align: right;\n",
       "    }\n",
       "</style>\n",
       "<table border=\"1\" class=\"dataframe\">\n",
       "  <thead>\n",
       "    <tr style=\"text-align: right;\">\n",
       "      <th></th>\n",
       "      <th>size</th>\n",
       "      <th>avarage_rating</th>\n",
       "      <th>average_salary</th>\n",
       "    </tr>\n",
       "    <tr>\n",
       "      <th>Revenue</th>\n",
       "      <th></th>\n",
       "      <th></th>\n",
       "      <th></th>\n",
       "    </tr>\n",
       "  </thead>\n",
       "  <tbody>\n",
       "    <tr>\n",
       "      <th>$1 to $5 million</th>\n",
       "      <td>1 to 50 employees</td>\n",
       "      <td>3.819297</td>\n",
       "      <td>76041.666667</td>\n",
       "    </tr>\n",
       "    <tr>\n",
       "      <th>$1 to $5 million</th>\n",
       "      <td>1001 to 5000 employees</td>\n",
       "      <td>3.400000</td>\n",
       "      <td>51500.000000</td>\n",
       "    </tr>\n",
       "    <tr>\n",
       "      <th>$1 to $5 million</th>\n",
       "      <td>201 to 500 employees</td>\n",
       "      <td>3.977778</td>\n",
       "      <td>69555.555556</td>\n",
       "    </tr>\n",
       "    <tr>\n",
       "      <th>$1 to $5 million</th>\n",
       "      <td>51 to 200 employees</td>\n",
       "      <td>3.799688</td>\n",
       "      <td>80264.705882</td>\n",
       "    </tr>\n",
       "    <tr>\n",
       "      <th>$10 to $25 million</th>\n",
       "      <td>1 to 50 employees</td>\n",
       "      <td>3.706667</td>\n",
       "      <td>67766.666667</td>\n",
       "    </tr>\n",
       "    <tr>\n",
       "      <th>...</th>\n",
       "      <td>...</td>\n",
       "      <td>...</td>\n",
       "      <td>...</td>\n",
       "    </tr>\n",
       "    <tr>\n",
       "      <th>Unknown / Non-Applicable</th>\n",
       "      <td>51 to 200 employees</td>\n",
       "      <td>3.931850</td>\n",
       "      <td>76877.777778</td>\n",
       "    </tr>\n",
       "    <tr>\n",
       "      <th>Unknown / Non-Applicable</th>\n",
       "      <td>Unknown</td>\n",
       "      <td>3.739800</td>\n",
       "      <td>73210.396040</td>\n",
       "    </tr>\n",
       "    <tr>\n",
       "      <th>more than $10000 million</th>\n",
       "      <td>10000+ employees</td>\n",
       "      <td>3.651445</td>\n",
       "      <td>70124.277457</td>\n",
       "    </tr>\n",
       "    <tr>\n",
       "      <th>more than $10000 million</th>\n",
       "      <td>1001 to 5000 employees</td>\n",
       "      <td>3.450000</td>\n",
       "      <td>73166.666667</td>\n",
       "    </tr>\n",
       "    <tr>\n",
       "      <th>more than $10000 million</th>\n",
       "      <td>5001 to 10000 employees</td>\n",
       "      <td>3.880000</td>\n",
       "      <td>74600.000000</td>\n",
       "    </tr>\n",
       "  </tbody>\n",
       "</table>\n",
       "<p>75 rows × 3 columns</p>\n",
       "</div>"
      ],
      "text/plain": [
       "                                             size  avarage_rating  \\\n",
       "Revenue                                                             \n",
       "$1 to $5 million                1 to 50 employees        3.819297   \n",
       "$1 to $5 million           1001 to 5000 employees        3.400000   \n",
       "$1 to $5 million             201 to 500 employees        3.977778   \n",
       "$1 to $5 million              51 to 200 employees        3.799688   \n",
       "$10 to $25 million              1 to 50 employees        3.706667   \n",
       "...                                           ...             ...   \n",
       "Unknown / Non-Applicable      51 to 200 employees        3.931850   \n",
       "Unknown / Non-Applicable                  Unknown        3.739800   \n",
       "more than $10000 million         10000+ employees        3.651445   \n",
       "more than $10000 million   1001 to 5000 employees        3.450000   \n",
       "more than $10000 million  5001 to 10000 employees        3.880000   \n",
       "\n",
       "                          average_salary  \n",
       "Revenue                                   \n",
       "$1 to $5 million            76041.666667  \n",
       "$1 to $5 million            51500.000000  \n",
       "$1 to $5 million            69555.555556  \n",
       "$1 to $5 million            80264.705882  \n",
       "$10 to $25 million          67766.666667  \n",
       "...                                  ...  \n",
       "Unknown / Non-Applicable    76877.777778  \n",
       "Unknown / Non-Applicable    73210.396040  \n",
       "more than $10000 million    70124.277457  \n",
       "more than $10000 million    73166.666667  \n",
       "more than $10000 million    74600.000000  \n",
       "\n",
       "[75 rows x 3 columns]"
      ]
     },
     "execution_count": 23,
     "metadata": {},
     "output_type": "execute_result"
    }
   ],
   "source": [
    "# create a dataframe to store group data\n",
    "df_groupby = pd.DataFrame()\n",
    "\n",
    "# group by 'Revenue' and 'Size' and calculate the mean for 'Rating' and 'average_salary'\n",
    "df_groupby['Rating'] = df.groupby(['Revenue','Size'])['Rating'].mean()\n",
    "df_groupby['average_salary'] = df.groupby(['Revenue','Size'])['average_salary'].mean()\n",
    "\n",
    "df_groupby = df_groupby.reset_index()\n",
    "df_groupby = df_groupby.set_index('Revenue')\n",
    "df_groupby.columns = ['size','avarage_rating','average_salary']\n",
    "df_groupby"
   ]
  },
  {
   "cell_type": "markdown",
   "metadata": {},
   "source": [
    "Create a new dataframe: df_groupby <br>\n",
    "Firstly, I group by revenue and size for df and calculate the average_rating and average_salary for every group. Then assign these values to every group.<br>\n",
    "Then convert index 'Size' to 'size' column."
   ]
  },
  {
   "cell_type": "code",
   "execution_count": 24,
   "metadata": {},
   "outputs": [
    {
     "data": {
      "text/html": [
       "<div>\n",
       "<style scoped>\n",
       "    .dataframe tbody tr th:only-of-type {\n",
       "        vertical-align: middle;\n",
       "    }\n",
       "\n",
       "    .dataframe tbody tr th {\n",
       "        vertical-align: top;\n",
       "    }\n",
       "\n",
       "    .dataframe thead th {\n",
       "        text-align: right;\n",
       "    }\n",
       "</style>\n",
       "<table border=\"1\" class=\"dataframe\">\n",
       "  <thead>\n",
       "    <tr style=\"text-align: right;\">\n",
       "      <th></th>\n",
       "      <th>avarage_rating</th>\n",
       "      <th>average_salary</th>\n",
       "      <th>size_1 to 50 employees</th>\n",
       "      <th>size_10000+ employees</th>\n",
       "      <th>size_1001 to 5000 employees</th>\n",
       "      <th>size_201 to 500 employees</th>\n",
       "      <th>size_5001 to 10000 employees</th>\n",
       "      <th>size_501 to 1000 employees</th>\n",
       "      <th>size_51 to 200 employees</th>\n",
       "      <th>size_Unknown</th>\n",
       "    </tr>\n",
       "    <tr>\n",
       "      <th>Revenue</th>\n",
       "      <th></th>\n",
       "      <th></th>\n",
       "      <th></th>\n",
       "      <th></th>\n",
       "      <th></th>\n",
       "      <th></th>\n",
       "      <th></th>\n",
       "      <th></th>\n",
       "      <th></th>\n",
       "      <th></th>\n",
       "    </tr>\n",
       "  </thead>\n",
       "  <tbody>\n",
       "    <tr>\n",
       "      <th>$1 to $5 million</th>\n",
       "      <td>3.819297</td>\n",
       "      <td>76041.666667</td>\n",
       "      <td>1</td>\n",
       "      <td>0</td>\n",
       "      <td>0</td>\n",
       "      <td>0</td>\n",
       "      <td>0</td>\n",
       "      <td>0</td>\n",
       "      <td>0</td>\n",
       "      <td>0</td>\n",
       "    </tr>\n",
       "    <tr>\n",
       "      <th>$1 to $5 million</th>\n",
       "      <td>3.400000</td>\n",
       "      <td>51500.000000</td>\n",
       "      <td>0</td>\n",
       "      <td>0</td>\n",
       "      <td>1</td>\n",
       "      <td>0</td>\n",
       "      <td>0</td>\n",
       "      <td>0</td>\n",
       "      <td>0</td>\n",
       "      <td>0</td>\n",
       "    </tr>\n",
       "    <tr>\n",
       "      <th>$1 to $5 million</th>\n",
       "      <td>3.977778</td>\n",
       "      <td>69555.555556</td>\n",
       "      <td>0</td>\n",
       "      <td>0</td>\n",
       "      <td>0</td>\n",
       "      <td>1</td>\n",
       "      <td>0</td>\n",
       "      <td>0</td>\n",
       "      <td>0</td>\n",
       "      <td>0</td>\n",
       "    </tr>\n",
       "    <tr>\n",
       "      <th>$1 to $5 million</th>\n",
       "      <td>3.799688</td>\n",
       "      <td>80264.705882</td>\n",
       "      <td>0</td>\n",
       "      <td>0</td>\n",
       "      <td>0</td>\n",
       "      <td>0</td>\n",
       "      <td>0</td>\n",
       "      <td>0</td>\n",
       "      <td>1</td>\n",
       "      <td>0</td>\n",
       "    </tr>\n",
       "    <tr>\n",
       "      <th>$10 to $25 million</th>\n",
       "      <td>3.706667</td>\n",
       "      <td>67766.666667</td>\n",
       "      <td>1</td>\n",
       "      <td>0</td>\n",
       "      <td>0</td>\n",
       "      <td>0</td>\n",
       "      <td>0</td>\n",
       "      <td>0</td>\n",
       "      <td>0</td>\n",
       "      <td>0</td>\n",
       "    </tr>\n",
       "    <tr>\n",
       "      <th>...</th>\n",
       "      <td>...</td>\n",
       "      <td>...</td>\n",
       "      <td>...</td>\n",
       "      <td>...</td>\n",
       "      <td>...</td>\n",
       "      <td>...</td>\n",
       "      <td>...</td>\n",
       "      <td>...</td>\n",
       "      <td>...</td>\n",
       "      <td>...</td>\n",
       "    </tr>\n",
       "    <tr>\n",
       "      <th>Unknown / Non-Applicable</th>\n",
       "      <td>3.931850</td>\n",
       "      <td>76877.777778</td>\n",
       "      <td>0</td>\n",
       "      <td>0</td>\n",
       "      <td>0</td>\n",
       "      <td>0</td>\n",
       "      <td>0</td>\n",
       "      <td>0</td>\n",
       "      <td>1</td>\n",
       "      <td>0</td>\n",
       "    </tr>\n",
       "    <tr>\n",
       "      <th>Unknown / Non-Applicable</th>\n",
       "      <td>3.739800</td>\n",
       "      <td>73210.396040</td>\n",
       "      <td>0</td>\n",
       "      <td>0</td>\n",
       "      <td>0</td>\n",
       "      <td>0</td>\n",
       "      <td>0</td>\n",
       "      <td>0</td>\n",
       "      <td>0</td>\n",
       "      <td>1</td>\n",
       "    </tr>\n",
       "    <tr>\n",
       "      <th>more than $10000 million</th>\n",
       "      <td>3.651445</td>\n",
       "      <td>70124.277457</td>\n",
       "      <td>0</td>\n",
       "      <td>1</td>\n",
       "      <td>0</td>\n",
       "      <td>0</td>\n",
       "      <td>0</td>\n",
       "      <td>0</td>\n",
       "      <td>0</td>\n",
       "      <td>0</td>\n",
       "    </tr>\n",
       "    <tr>\n",
       "      <th>more than $10000 million</th>\n",
       "      <td>3.450000</td>\n",
       "      <td>73166.666667</td>\n",
       "      <td>0</td>\n",
       "      <td>0</td>\n",
       "      <td>1</td>\n",
       "      <td>0</td>\n",
       "      <td>0</td>\n",
       "      <td>0</td>\n",
       "      <td>0</td>\n",
       "      <td>0</td>\n",
       "    </tr>\n",
       "    <tr>\n",
       "      <th>more than $10000 million</th>\n",
       "      <td>3.880000</td>\n",
       "      <td>74600.000000</td>\n",
       "      <td>0</td>\n",
       "      <td>0</td>\n",
       "      <td>0</td>\n",
       "      <td>0</td>\n",
       "      <td>1</td>\n",
       "      <td>0</td>\n",
       "      <td>0</td>\n",
       "      <td>0</td>\n",
       "    </tr>\n",
       "  </tbody>\n",
       "</table>\n",
       "<p>75 rows × 10 columns</p>\n",
       "</div>"
      ],
      "text/plain": [
       "                          avarage_rating  average_salary  \\\n",
       "Revenue                                                    \n",
       "$1 to $5 million                3.819297    76041.666667   \n",
       "$1 to $5 million                3.400000    51500.000000   \n",
       "$1 to $5 million                3.977778    69555.555556   \n",
       "$1 to $5 million                3.799688    80264.705882   \n",
       "$10 to $25 million              3.706667    67766.666667   \n",
       "...                                  ...             ...   \n",
       "Unknown / Non-Applicable        3.931850    76877.777778   \n",
       "Unknown / Non-Applicable        3.739800    73210.396040   \n",
       "more than $10000 million        3.651445    70124.277457   \n",
       "more than $10000 million        3.450000    73166.666667   \n",
       "more than $10000 million        3.880000    74600.000000   \n",
       "\n",
       "                          size_1 to 50 employees  size_10000+ employees  \\\n",
       "Revenue                                                                   \n",
       "$1 to $5 million                               1                      0   \n",
       "$1 to $5 million                               0                      0   \n",
       "$1 to $5 million                               0                      0   \n",
       "$1 to $5 million                               0                      0   \n",
       "$10 to $25 million                             1                      0   \n",
       "...                                          ...                    ...   \n",
       "Unknown / Non-Applicable                       0                      0   \n",
       "Unknown / Non-Applicable                       0                      0   \n",
       "more than $10000 million                       0                      1   \n",
       "more than $10000 million                       0                      0   \n",
       "more than $10000 million                       0                      0   \n",
       "\n",
       "                          size_1001 to 5000 employees  \\\n",
       "Revenue                                                 \n",
       "$1 to $5 million                                    0   \n",
       "$1 to $5 million                                    1   \n",
       "$1 to $5 million                                    0   \n",
       "$1 to $5 million                                    0   \n",
       "$10 to $25 million                                  0   \n",
       "...                                               ...   \n",
       "Unknown / Non-Applicable                            0   \n",
       "Unknown / Non-Applicable                            0   \n",
       "more than $10000 million                            0   \n",
       "more than $10000 million                            1   \n",
       "more than $10000 million                            0   \n",
       "\n",
       "                          size_201 to 500 employees  \\\n",
       "Revenue                                               \n",
       "$1 to $5 million                                  0   \n",
       "$1 to $5 million                                  0   \n",
       "$1 to $5 million                                  1   \n",
       "$1 to $5 million                                  0   \n",
       "$10 to $25 million                                0   \n",
       "...                                             ...   \n",
       "Unknown / Non-Applicable                          0   \n",
       "Unknown / Non-Applicable                          0   \n",
       "more than $10000 million                          0   \n",
       "more than $10000 million                          0   \n",
       "more than $10000 million                          0   \n",
       "\n",
       "                          size_5001 to 10000 employees  \\\n",
       "Revenue                                                  \n",
       "$1 to $5 million                                     0   \n",
       "$1 to $5 million                                     0   \n",
       "$1 to $5 million                                     0   \n",
       "$1 to $5 million                                     0   \n",
       "$10 to $25 million                                   0   \n",
       "...                                                ...   \n",
       "Unknown / Non-Applicable                             0   \n",
       "Unknown / Non-Applicable                             0   \n",
       "more than $10000 million                             0   \n",
       "more than $10000 million                             0   \n",
       "more than $10000 million                             1   \n",
       "\n",
       "                          size_501 to 1000 employees  \\\n",
       "Revenue                                                \n",
       "$1 to $5 million                                   0   \n",
       "$1 to $5 million                                   0   \n",
       "$1 to $5 million                                   0   \n",
       "$1 to $5 million                                   0   \n",
       "$10 to $25 million                                 0   \n",
       "...                                              ...   \n",
       "Unknown / Non-Applicable                           0   \n",
       "Unknown / Non-Applicable                           0   \n",
       "more than $10000 million                           0   \n",
       "more than $10000 million                           0   \n",
       "more than $10000 million                           0   \n",
       "\n",
       "                          size_51 to 200 employees  size_Unknown  \n",
       "Revenue                                                           \n",
       "$1 to $5 million                                 0             0  \n",
       "$1 to $5 million                                 0             0  \n",
       "$1 to $5 million                                 0             0  \n",
       "$1 to $5 million                                 1             0  \n",
       "$10 to $25 million                               0             0  \n",
       "...                                            ...           ...  \n",
       "Unknown / Non-Applicable                         1             0  \n",
       "Unknown / Non-Applicable                         0             1  \n",
       "more than $10000 million                         0             0  \n",
       "more than $10000 million                         0             0  \n",
       "more than $10000 million                         0             0  \n",
       "\n",
       "[75 rows x 10 columns]"
      ]
     },
     "execution_count": 24,
     "metadata": {},
     "output_type": "execute_result"
    }
   ],
   "source": [
    "# creat new binary columns for categorical variable 'Size'\n",
    "df_groupby = pd.get_dummies(df_groupby)\n",
    "df_groupby"
   ]
  },
  {
   "cell_type": "code",
   "execution_count": 25,
   "metadata": {},
   "outputs": [
    {
     "data": {
      "image/png": "[encoded data removed]",
      "text/plain": [
       "<Figure size 1440x576 with 2 Axes>"
      ]
     },
     "metadata": {
      "needs_background": "light"
     },
     "output_type": "display_data"
    }
   ],
   "source": [
    "# the correlation among variables\n",
    "plt.figure(figsize=(20,8))\n",
    "sns.heatmap(df_groupby.corr(), annot=True, fmt='.2f');"
   ]
  },
  {
   "cell_type": "markdown",
   "metadata": {},
   "source": [
    "The correlations are weak from the picture."
   ]
  },
  {
   "cell_type": "code",
   "execution_count": 26,
   "metadata": {},
   "outputs": [
    {
     "data": {
      "text/plain": [
       "Index(['avarage_rating', 'average_salary', 'size_1 to 50 employees',\n",
       "       'size_10000+ employees', 'size_1001 to 5000 employees',\n",
       "       'size_201 to 500 employees', 'size_5001 to 10000 employees',\n",
       "       'size_501 to 1000 employees', 'size_51 to 200 employees',\n",
       "       'size_Unknown'],\n",
       "      dtype='object')"
      ]
     },
     "execution_count": 26,
     "metadata": {},
     "output_type": "execute_result"
    }
   ],
   "source": [
    "df_groupby.columns"
   ]
  },
  {
   "cell_type": "code",
   "execution_count": 27,
   "metadata": {},
   "outputs": [
    {
     "data": {
      "text/plain": [
       "0.0919969087657051"
      ]
     },
     "execution_count": 27,
     "metadata": {},
     "output_type": "execute_result"
    }
   ],
   "source": [
    "# LinearRegression\n",
    "X = df_groupby[['avarage_rating','size_1 to 50 employees',\n",
    "       'size_10000+ employees', 'size_1001 to 5000 employees',\n",
    "       'size_201 to 500 employees', 'size_5001 to 10000 employees',\n",
    "       'size_501 to 1000 employees', 'size_51 to 200 employees',\n",
    "       'size_Unknown']]\n",
    "y = df_groupby['average_salary']\n",
    "X_train, X_test, y_train, y_test = train_test_split(X, y, test_size = .30, random_state=42)\n",
    "\n",
    "# instantiate\n",
    "lm_model = LinearRegression(normalize=True) \n",
    "# fit training\n",
    "lm_model.fit(X_train, y_train) \n",
    "# predict test data\n",
    "y_hat = lm_model.predict(X_test)\n",
    "# score model on test data\n",
    "r2_score(y_test,y_hat)"
   ]
  },
  {
   "cell_type": "markdown",
   "metadata": {},
   "source": [
    "Answer 3:<br>\n",
    "The answer is no. There is little linear correlation between salary and company size. Small companies are higher paid than big ones sometimes."
   ]
  },
  {
   "cell_type": "markdown",
   "metadata": {},
   "source": [
    "## 6.Evaluate the Results"
   ]
  },
  {
   "cell_type": "markdown",
   "metadata": {},
   "source": [
    "This r2_score 0.09 is higher than last modeling(r2_score: -0.002). Put more features might enhance the model."
   ]
  },
  {
   "cell_type": "code",
   "execution_count": 28,
   "metadata": {},
   "outputs": [],
   "source": [
    "# the last submission code about modeling:\n",
    "\n",
    "# df = df.replace('1 to 50 employees',1)\n",
    "# df = df.replace('51 to 200 employees',2)\n",
    "# df = df.replace('201 to 500 employees',3)\n",
    "# df = df.replace('501 to 1000 employees',4)\n",
    "# df = df.replace('1001 to 5000 employees',5)\n",
    "# df = df.replace('5001 to 10000 employees',6)\n",
    "# df = df.replace('10000+ employees',7)\n",
    "# df.dropna(inplace=True)\n",
    "# X = df[['Size']]\n",
    "# y = df['average_salary']\n",
    "# X_train, X_test, y_train, y_test = train_test_split(X, y, test_size = .30, random_state=42)\n",
    "# lm_model = LinearRegression(normalize=True) \n",
    "# lm_model.fit(X_train, y_train) \n",
    "# y_hat = lm_model.predict(X_test)\n",
    "# r2_score(y_test,y_hat)   -0.0020905270060089798"
   ]
  },
  {
   "cell_type": "code",
   "execution_count": null,
   "metadata": {},
   "outputs": [],
   "source": []
  },
  {
   "cell_type": "code",
   "execution_count": null,
   "metadata": {},
   "outputs": [],
   "source": []
  }
 ],
 "metadata": {
  "kernelspec": {
   "display_name": "Python 3",
   "language": "python",
   "name": "python3"
  },
  "language_info": {
   "codemirror_mode": {
    "name": "ipython",
    "version": 3
   },
   "file_extension": ".py",
   "mimetype": "text/x-python",
   "name": "python",
   "nbconvert_exporter": "python",
   "pygments_lexer": "ipython3",
   "version": "3.8.3"
  }
 },
 "nbformat": 4,
 "nbformat_minor": 4
}
